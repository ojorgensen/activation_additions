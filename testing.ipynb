{
 "cells": [
  {
   "cell_type": "code",
   "execution_count": 1,
   "metadata": {},
   "outputs": [],
   "source": [
    "import torch\n",
    "from typing import List, Union, Tuple\n",
    "from functools import partial\n",
    "import json\n",
    "from transformer_lens.HookedTransformer import HookedTransformer\n",
    "\n",
    "from algebraic_value_editing.completion_utils import print_n_comparisons\n",
    "from algebraic_value_editing.prompt_utils import get_x_vector"
   ]
  },
  {
   "cell_type": "code",
   "execution_count": 2,
   "metadata": {},
   "outputs": [
    {
     "name": "stderr",
     "output_type": "stream",
     "text": [
      "Using pad_token, but it is not set yet.\n"
     ]
    },
    {
     "name": "stdout",
     "output_type": "stream",
     "text": [
      "Loaded pretrained model gpt2-small into HookedTransformer\n",
      "Moving model to device:  cpu\n"
     ]
    }
   ],
   "source": [
    "model_name = \"gpt2-small\"\n",
    "# model_name = \"gpt-j-6B\"\n",
    "# model_name = \"pythia-2.8b-deduped\"\n",
    "\n",
    "# GPT-J-6B can't load onto GPU RAM of Colab\n",
    "device: str = \"cuda\" if (torch.cuda.is_available() and model_name != \"gpt-j-6B\") else \"cpu\"\n",
    "model: HookedTransformer = HookedTransformer.from_pretrained(model_name, device=\"cpu\").to(device)"
   ]
  },
  {
   "attachments": {},
   "cell_type": "markdown",
   "metadata": {},
   "source": [
    "## Load Dataset"
   ]
  },
  {
   "cell_type": "code",
   "execution_count": 3,
   "metadata": {},
   "outputs": [],
   "source": [
    "stories = {}"
   ]
  },
  {
   "cell_type": "code",
   "execution_count": 4,
   "metadata": {},
   "outputs": [],
   "source": [
    "# Specify the file path\n",
    "file_path = './datasets/fantasy_200.json'\n",
    "\n",
    "# Open and read the JSON file\n",
    "with open(file_path, 'r') as file:\n",
    "  # Load the JSON data from the file\n",
    "  dataset_fantasy = json.load(file)\n",
    "\n",
    "  stories[\"fantasy\"] = dataset_fantasy"
   ]
  },
  {
   "attachments": {},
   "cell_type": "markdown",
   "metadata": {},
   "source": [
    "## Run Model (!)!!"
   ]
  },
  {
   "cell_type": "code",
   "execution_count": 45,
   "metadata": {},
   "outputs": [],
   "source": [
    "from algebraic_value_editing.dataset_utils import ActivationAdditionDataset\n",
    "\n",
    "activation_addition_dataset = [ActivationAdditionDataset(\n",
    "    coeff=0.9,\n",
    "    act_name=0,\n",
    "    prompt=stories[\"fantasy\"],\n",
    "    from_dataset=True,\n",
    ")]"
   ]
  },
  {
   "cell_type": "code",
   "execution_count": 46,
   "metadata": {},
   "outputs": [
    {
     "data": {
      "text/plain": [
       "'blocks.0.hook_resid_pre'"
      ]
     },
     "execution_count": 46,
     "metadata": {},
     "output_type": "execute_result"
    }
   ],
   "source": [
    "activation_addition_dataset[0].location"
   ]
  },
  {
   "cell_type": "code",
   "execution_count": 47,
   "metadata": {},
   "outputs": [],
   "source": [
    "default_kwargs = {'temperature': 1, 'freq_penalty': 1, 'top_p': .3, 'model': model}\n",
    "get_x_vector_preset = partial(get_x_vector, pad_method=\"tokens_left\",\n",
    "                              model=model,\n",
    "                              custom_pad_id=model.to_single_token(\" \"))"
   ]
  },
  {
   "cell_type": "code",
   "execution_count": 48,
   "metadata": {},
   "outputs": [
    {
     "name": "stdout",
     "output_type": "stream",
     "text": [
      "+--------------------------------------------------------------+--------------------------------------------------------------+\n",
      "|                    \u001b[1mUnsteered completions\u001b[0m                     |                     \u001b[1mSteered completions\u001b[0m                      |\n",
      "+--------------------------------------------------------------+--------------------------------------------------------------+\n",
      "|   \u001b[1mYesterday, my son brought home a pet goose. This was the   |   \u001b[1mYesterday, my son brought home a pet goose. This was the   |\n",
      "|   start of\u001b[0m his life as a dog. He was raised by his mother    |                      start of\u001b[0m the day.                       |\n",
      "| and father in the U.S., and I had to take him out for walks  |                                                              |\n",
      "| with me every day because he was so small. He has never been |   I got to see it in action and I'm so happy to be able to   |\n",
      "| shy about taking care of himself, even when he is scared or  | share it with you. It's a big goose that weighs just over 1  |\n",
      "|     confused or if he is not happy with himself at all.      | pound and is named 'Kissie'. The name means \"little bird\" in |\n",
      "|                                                              |   German and is used as an insult for a pet goose. I think   |\n",
      "|       I think it's important to remember that this is        |    this goose is really cute because it's very large, but    |\n",
      "+--------------------------------------------------------------+--------------------------------------------------------------+\n",
      "|   \u001b[1mYesterday, my son brought home a pet goose. This was the   |   \u001b[1mYesterday, my son brought home a pet goose. This was the   |\n",
      "|    start of\u001b[0m the new year and I was excited to see how it     |    start of\u001b[0m the new year and I was excited to see how it     |\n",
      "| would look after a few days of winter. The goose has been an | would look on his skin. He has been eating this goose for a  |\n",
      "|   important part of my family for many years now and it is   |          while now and I'm really excited about it!          |\n",
      "|            something that I will always cherish.             |                                                              |\n",
      "|                                                              | The goose is an important part of our family, so we decided  |\n",
      "|   I had some questions about this bird, which I will share   | to give him a treat! The little goose is actually one of our |\n",
      "| with you soon. First off, why are these birds so important?  |  favorite birds in the world. It's so cute and easy to eat,  |\n",
      "|              It is not only because they are th              |                              bu                              |\n",
      "+--------------------------------------------------------------+--------------------------------------------------------------+\n",
      "|   \u001b[1mYesterday, my son brought home a pet goose. This was the   |   \u001b[1mYesterday, my son brought home a pet goose. This was the   |\n",
      "|     start of\u001b[0m a new adventure for me as I was looking for     |   start of\u001b[0m a new adventure for me. I have been using this    |\n",
      "|  something to take home with me when I got home from work.   |  goose for over 10 years now and it is my favorite goose in  |\n",
      "| It's been a while since we've had this bird and it's just so | the world. It is very easy to make and has an amazing flavor |\n",
      "|                            cute!                             |          that I am looking forward to making again.          |\n",
      "|                                                              |                                                              |\n",
      "| I have never seen one before, but when I got home from work  |  I have used this goose for about 2 years now and I love it  |\n",
      "|  today, my dog gave me an awesome gift that is still in the  | so much! It is so easy to make, it will not break down when  |\n",
      "|            bag! The goose is adorable and she has            |                             you                              |\n",
      "+--------------------------------------------------------------+--------------------------------------------------------------+\n",
      "|   \u001b[1mYesterday, my son brought home a pet goose. This was the   |   \u001b[1mYesterday, my son brought home a pet goose. This was the   |\n",
      "|   start of\u001b[0m his new life. He's an excellent kid and I love    |     start of\u001b[0m the new year and I had to make sure that he     |\n",
      "|         him dearly. He is so much fun to be around!          |  didn't get any sick. I have been working on this for about  |\n",
      "|                                                              |  two weeks now and have just been having fun with it. It's   |\n",
      "|  I'm so excited to have this goose in my family as well as   |  not like he has to go through the whole process of feeding  |\n",
      "| other pets that are being adopted by other families who want |  it every day, but it's something that I really want him to  |\n",
      "| to adopt them from me. It's just a wonderful time for all of |                         do as well.                          |\n",
      "|                             us!                              |                                                              |\n",
      "|                                                              |          The goose is one of those things that you           |\n",
      "|             This story is part of our \"We're All             |                                                              |\n",
      "+--------------------------------------------------------------+--------------------------------------------------------------+\n",
      "|   \u001b[1mYesterday, my son brought home a pet goose. This was the   |   \u001b[1mYesterday, my son brought home a pet goose. This was the   |\n",
      "|      start of\u001b[0m the first year I had him, and he is now 6      |    start of\u001b[0m a new chapter in my life. I have been working    |\n",
      "|                         months old.                          |  on it for about a year now and I'm finally getting to it.   |\n",
      "|                                                              |  It's not just the birds, but also the birds that are being  |\n",
      "| I'm not sure if it's because he has a really big head or if  |  fed on me every day. The eggs are coming out of their egg   |\n",
      "|   his ears are actually growing. I'm just glad that we can   |  sacs every day and they're going to be ready for me when I  |\n",
      "|               finally get him to eat with us!                |               get home from work this weekend.               |\n",
      "|                                                              |                                                              |\n",
      "| What do you think? Do you have any questions about this new  |                             I'v                              |\n",
      "|        baby goose? Let me know in the comments below!        |                                                              |\n",
      "+--------------------------------------------------------------+--------------------------------------------------------------+\n",
      "|   \u001b[1mYesterday, my son brought home a pet goose. This was the   |   \u001b[1mYesterday, my son brought home a pet goose. This was the   |\n",
      "|      start of\u001b[0m his life as a gecko. I'm not sure if he's      |    start of\u001b[0m the day for me. I thought it would be fun to     |\n",
      "|  really born with this bird or just born with it. He's not   |   share with you how he came up with this goose and how it   |\n",
      "|    quite sure what to make of it, but I think he is still    |                     became his new pet.                      |\n",
      "|            trying to figure out how to handle it.            |                                                              |\n",
      "|                                                              |  I am so happy that I have found a way to make this process  |\n",
      "| It took me about two weeks before I realized that my son was |  easier for you all! If you are interested in learning more  |\n",
      "| actually using his own goose feathers for a photo shoot and  |            about our process, please click here!             |\n",
      "|                         had no idea                          |                                                              |\n",
      "|                                                              |            Happy New Year everyone!<|endoftext|>             |\n",
      "+--------------------------------------------------------------+--------------------------------------------------------------+\n",
      "|   \u001b[1mYesterday, my son brought home a pet goose. This was the   |   \u001b[1mYesterday, my son brought home a pet goose. This was the   |\n",
      "|              start of\u001b[0m a new chapter in my life.              |              start of\u001b[0m a new chapter in my life.              |\n",
      "|                                                              |                                                              |\n",
      "|  I've been playing with this goose for about two years now   |  I've been living with this problem for over a year now and  |\n",
      "|  and I'm excited to share it with you all. It's a beautiful  |  I'm finally getting around to it. My wife and I are having  |\n",
      "|  little bird that has been kept by me for over three years   |   an amazing time with our pets and we're all very excited   |\n",
      "| now and I love it so much! The best part is that you can get |     about it! We've had the opportunity to visit several     |\n",
      "| your hands on one at any time from our local flea market or  |  different museums, play in parks, take pictures at various  |\n",
      "|                            any p                             |    places around town, meet some of our favorite animals     |\n",
      "+--------------------------------------------------------------+--------------------------------------------------------------+\n",
      "|   \u001b[1mYesterday, my son brought home a pet goose. This was the   |   \u001b[1mYesterday, my son brought home a pet goose. This was the   |\n",
      "|   start of\u001b[0m a new chapter in my life. I'm not sure if it's    |   start of\u001b[0m a new chapter in my life. I'm not sure if it's    |\n",
      "| because he's such an awesome kid or if he just wants to have | because he's just learned to read and understand English, or |\n",
      "|  fun with his friends and be nice to everyone around him. I  |  that he has become more fluent in the language than I have  |\n",
      "|  know that this is the beginning of some really interesting  |                        ever seen him.                        |\n",
      "|  things for me as a parent, but I'm also very excited about  |                                                              |\n",
      "|                    what will happen next!                    |   But for now, here are some facts about how this goose is   |\n",
      "|                                                              |                            doing:                            |\n",
      "|             The first thing that came to mind wh             |                                                              |\n",
      "|                                                              | It is now very close to being able to speak English at all!  |\n",
      "|                                                              |                      It can't even talk                      |\n",
      "+--------------------------------------------------------------+--------------------------------------------------------------+\n"
     ]
    }
   ],
   "source": [
    "print_n_comparisons(prompt=\"Yesterday, my son brought home a pet goose. This was the start of\",\n",
    "                    tokens_to_generate=80, activation_additions=activation_addition_dataset,\n",
    "                    num_comparisons=8, seed=0, **default_kwargs)"
   ]
  }
 ],
 "metadata": {
  "kernelspec": {
   "display_name": "add_env",
   "language": "python",
   "name": "python3"
  },
  "language_info": {
   "codemirror_mode": {
    "name": "ipython",
    "version": 3
   },
   "file_extension": ".py",
   "mimetype": "text/x-python",
   "name": "python",
   "nbconvert_exporter": "python",
   "pygments_lexer": "ipython3",
   "version": "3.10.9"
  },
  "orig_nbformat": 4
 },
 "nbformat": 4,
 "nbformat_minor": 2
}
