{
 "cells": [
  {
   "cell_type": "code",
   "execution_count": 1,
   "metadata": {},
   "outputs": [],
   "source": [
    "import torch\n",
    "from typing import List, Union, Tuple\n",
    "from functools import partial\n",
    "import json\n",
    "from transformer_lens.HookedTransformer import HookedTransformer\n",
    "\n",
    "from algebraic_value_editing.completion_utils import print_n_comparisons\n",
    "from algebraic_value_editing.prompt_utils import get_x_vector"
   ]
  },
  {
   "cell_type": "code",
   "execution_count": 2,
   "metadata": {},
   "outputs": [
    {
     "name": "stderr",
     "output_type": "stream",
     "text": [
      "Using pad_token, but it is not set yet.\n"
     ]
    },
    {
     "name": "stdout",
     "output_type": "stream",
     "text": [
      "Loaded pretrained model gpt2-small into HookedTransformer\n",
      "Moving model to device:  cpu\n"
     ]
    }
   ],
   "source": [
    "model_name = \"gpt2-small\"\n",
    "# model_name = \"gpt-j-6B\"\n",
    "# model_name = \"pythia-2.8b-deduped\"\n",
    "\n",
    "# GPT-J-6B can't load onto GPU RAM of Colab\n",
    "device: str = \"cuda\" if (torch.cuda.is_available() and model_name != \"gpt-j-6B\") else \"cpu\"\n",
    "model: HookedTransformer = HookedTransformer.from_pretrained(model_name, device=\"cpu\").to(device)"
   ]
  },
  {
   "attachments": {},
   "cell_type": "markdown",
   "metadata": {},
   "source": [
    "## Load Dataset"
   ]
  },
  {
   "cell_type": "code",
   "execution_count": 3,
   "metadata": {},
   "outputs": [],
   "source": [
    "stories = {}"
   ]
  },
  {
   "cell_type": "code",
   "execution_count": 4,
   "metadata": {},
   "outputs": [],
   "source": [
    "# Specify the file path\n",
    "file_path = './datasets/fantasy_200.json'\n",
    "\n",
    "# Open and read the JSON file\n",
    "with open(file_path, 'r') as file:\n",
    "  # Load the JSON data from the file\n",
    "  dataset_fantasy = json.load(file)\n",
    "\n",
    "  stories[\"fantasy\"] = dataset_fantasy"
   ]
  },
  {
   "cell_type": "code",
   "execution_count": 5,
   "metadata": {},
   "outputs": [],
   "source": [
    "# Specify the file path\n",
    "file_path = './datasets/sports_200.json'\n",
    "\n",
    "# Open and read the JSON file\n",
    "with open(file_path, 'r') as file:\n",
    "  # Load the JSON data from the file\n",
    "  dataset_sports = json.load(file)\n",
    "\n",
    "  stories[\"sports\"] = dataset_sports"
   ]
  },
  {
   "cell_type": "code",
   "execution_count": 5,
   "metadata": {},
   "outputs": [
    {
     "data": {
      "text/plain": [
       "'cpu'"
      ]
     },
     "execution_count": 5,
     "metadata": {},
     "output_type": "execute_result"
    }
   ],
   "source": [
    "device"
   ]
  },
  {
   "attachments": {},
   "cell_type": "markdown",
   "metadata": {},
   "source": [
    "## Run Model (!)!!"
   ]
  },
  {
   "cell_type": "code",
   "execution_count": 5,
   "metadata": {},
   "outputs": [],
   "source": [
    "from algebraic_value_editing.dataset_utils import ActivationAdditionDataset\n",
    "\n",
    "activation_addition_dataset = [ActivationAdditionDataset(\n",
    "    coeff=0.9,\n",
    "    act_name=0,\n",
    "    prompt=stories[\"fantasy\"],\n",
    "    from_dataset=True,\n",
    ")]"
   ]
  },
  {
   "cell_type": "code",
   "execution_count": 6,
   "metadata": {},
   "outputs": [
    {
     "data": {
      "text/plain": [
       "'blocks.0.hook_resid_pre'"
      ]
     },
     "execution_count": 6,
     "metadata": {},
     "output_type": "execute_result"
    }
   ],
   "source": [
    "activation_addition_dataset[0].location"
   ]
  },
  {
   "cell_type": "code",
   "execution_count": 7,
   "metadata": {},
   "outputs": [],
   "source": [
    "default_kwargs = {'temperature': 1, 'freq_penalty': 1, 'top_p': .3, 'model': model}\n",
    "get_x_vector_preset = partial(get_x_vector, pad_method=\"tokens_left\",\n",
    "                              model=model,\n",
    "                              custom_pad_id=model.to_single_token(\" \"))"
   ]
  },
  {
   "cell_type": "code",
   "execution_count": 8,
   "metadata": {},
   "outputs": [
    {
     "name": "stdout",
     "output_type": "stream",
     "text": [
      "activations_seq_len: 1\n",
      "+--------------------------------------------------------------+--------------------------------------------------------------+\n",
      "|                    \u001b[1mUnsteered completions\u001b[0m                     |                     \u001b[1mSteered completions\u001b[0m                      |\n",
      "+--------------------------------------------------------------+--------------------------------------------------------------+\n",
      "|   \u001b[1mYesterday, my son brought home a pet goose. This was the   |   \u001b[1mYesterday, my son brought home a pet goose. This was the   |\n",
      "|   start of\u001b[0m his life as a dog. He was raised by his mother    |                      start of\u001b[0m the day.                       |\n",
      "| and father in the U.S., and I had to take him out for walks  |                                                              |\n",
      "| with me every day because he was so small. He has never been |   I got to see it in action and I'm so happy to be able to   |\n",
      "| shy about taking care of himself, even when he is scared or  | share it with you. It's a big goose that weighs just over 1  |\n",
      "|     confused or if he is not happy with himself at all.      | pound and is named 'Kissie'. The name means \"little bird\" in |\n",
      "|                                                              |   German and is used as an insult for a pet goose. I think   |\n",
      "|       I think it's important to remember that this is        |    this goose is really cute because it's very large, but    |\n",
      "+--------------------------------------------------------------+--------------------------------------------------------------+\n",
      "|   \u001b[1mYesterday, my son brought home a pet goose. This was the   |   \u001b[1mYesterday, my son brought home a pet goose. This was the   |\n",
      "|    start of\u001b[0m the new year and I was excited to see how it     |    start of\u001b[0m the new year and I was excited to see how it     |\n",
      "| would look after a few days of winter. The goose has been an | would look on his skin. He has been eating this goose for a  |\n",
      "|   important part of my family for many years now and it is   |          while now and I'm really excited about it!          |\n",
      "|            something that I will always cherish.             |                                                              |\n",
      "|                                                              | The goose is an important part of our family, so we decided  |\n",
      "|   I had some questions about this bird, which I will share   | to give him a treat! The little goose is actually one of our |\n",
      "| with you soon. First off, why are these birds so important?  |  favorite birds in the world. It's so cute and easy to eat,  |\n",
      "|              It is not only because they are th              |                              bu                              |\n",
      "+--------------------------------------------------------------+--------------------------------------------------------------+\n",
      "|   \u001b[1mYesterday, my son brought home a pet goose. This was the   |   \u001b[1mYesterday, my son brought home a pet goose. This was the   |\n",
      "|     start of\u001b[0m a new adventure for me as I was looking for     |   start of\u001b[0m a new adventure for me. I have been using this    |\n",
      "|  something to take home with me when I got home from work.   |  goose for over 10 years now and it is my favorite goose in  |\n",
      "| It's been a while since we've had this bird and it's just so | the world. It is very easy to make and has an amazing flavor |\n",
      "|                            cute!                             |          that I am looking forward to making again.          |\n",
      "|                                                              |                                                              |\n",
      "| I have never seen one before, but when I got home from work  |  I have used this goose for about 2 years now and I love it  |\n",
      "|  today, my dog gave me an awesome gift that is still in the  | so much! It is so easy to make, it will not break down when  |\n",
      "|            bag! The goose is adorable and she has            |                             you                              |\n",
      "+--------------------------------------------------------------+--------------------------------------------------------------+\n",
      "|   \u001b[1mYesterday, my son brought home a pet goose. This was the   |   \u001b[1mYesterday, my son brought home a pet goose. This was the   |\n",
      "|   start of\u001b[0m his new life. He's an excellent kid and I love    |     start of\u001b[0m the new year and I had to make sure that he     |\n",
      "|         him dearly. He is so much fun to be around!          |  didn't get any sick. I have been working on this for about  |\n",
      "|                                                              |  two weeks now and have just been having fun with it. It's   |\n",
      "|  I'm so excited to have this goose in my family as well as   |  not like he has to go through the whole process of feeding  |\n",
      "| other pets that are being adopted by other families who want |  it every day, but it's something that I really want him to  |\n",
      "| to adopt them from me. It's just a wonderful time for all of |                         do as well.                          |\n",
      "|                             us!                              |                                                              |\n",
      "|                                                              |          The goose is one of those things that you           |\n",
      "|             This story is part of our \"We're All             |                                                              |\n",
      "+--------------------------------------------------------------+--------------------------------------------------------------+\n",
      "|   \u001b[1mYesterday, my son brought home a pet goose. This was the   |   \u001b[1mYesterday, my son brought home a pet goose. This was the   |\n",
      "|      start of\u001b[0m the first year I had him, and he is now 6      |    start of\u001b[0m a new chapter in my life. I have been working    |\n",
      "|                         months old.                          |  on it for about a year now and I'm finally getting to it.   |\n",
      "|                                                              |  It's not just the birds, but also the birds that are being  |\n",
      "| I'm not sure if it's because he has a really big head or if  |  fed on me every day. The eggs are coming out of their egg   |\n",
      "|   his ears are actually growing. I'm just glad that we can   |  sacs every day and they're going to be ready for me when I  |\n",
      "|               finally get him to eat with us!                |               get home from work this weekend.               |\n",
      "|                                                              |                                                              |\n",
      "| What do you think? Do you have any questions about this new  |                             I'v                              |\n",
      "|        baby goose? Let me know in the comments below!        |                                                              |\n",
      "+--------------------------------------------------------------+--------------------------------------------------------------+\n",
      "|   \u001b[1mYesterday, my son brought home a pet goose. This was the   |   \u001b[1mYesterday, my son brought home a pet goose. This was the   |\n",
      "|      start of\u001b[0m his life as a gecko. I'm not sure if he's      |    start of\u001b[0m the day for me. I thought it would be fun to     |\n",
      "|  really born with this bird or just born with it. He's not   |   share with you how he came up with this goose and how it   |\n",
      "|    quite sure what to make of it, but I think he is still    |                     became his new pet.                      |\n",
      "|            trying to figure out how to handle it.            |                                                              |\n",
      "|                                                              |  I am so happy that I have found a way to make this process  |\n",
      "| It took me about two weeks before I realized that my son was |  easier for you all! If you are interested in learning more  |\n",
      "| actually using his own goose feathers for a photo shoot and  |            about our process, please click here!             |\n",
      "|                         had no idea                          |                                                              |\n",
      "|                                                              |            Happy New Year everyone!<|endoftext|>             |\n",
      "+--------------------------------------------------------------+--------------------------------------------------------------+\n",
      "|   \u001b[1mYesterday, my son brought home a pet goose. This was the   |   \u001b[1mYesterday, my son brought home a pet goose. This was the   |\n",
      "|              start of\u001b[0m a new chapter in my life.              |              start of\u001b[0m a new chapter in my life.              |\n",
      "|                                                              |                                                              |\n",
      "|  I've been playing with this goose for about two years now   |  I've been living with this problem for over a year now and  |\n",
      "|  and I'm excited to share it with you all. It's a beautiful  |  I'm finally getting around to it. My wife and I are having  |\n",
      "|  little bird that has been kept by me for over three years   |   an amazing time with our pets and we're all very excited   |\n",
      "| now and I love it so much! The best part is that you can get |     about it! We've had the opportunity to visit several     |\n",
      "| your hands on one at any time from our local flea market or  |  different museums, play in parks, take pictures at various  |\n",
      "|                            any p                             |    places around town, meet some of our favorite animals     |\n",
      "+--------------------------------------------------------------+--------------------------------------------------------------+\n",
      "|   \u001b[1mYesterday, my son brought home a pet goose. This was the   |   \u001b[1mYesterday, my son brought home a pet goose. This was the   |\n",
      "|   start of\u001b[0m a new chapter in my life. I'm not sure if it's    |   start of\u001b[0m a new chapter in my life. I'm not sure if it's    |\n",
      "| because he's such an awesome kid or if he just wants to have | because he's just learned to read and understand English, or |\n",
      "|  fun with his friends and be nice to everyone around him. I  |  that he has become more fluent in the language than I have  |\n",
      "|  know that this is the beginning of some really interesting  |                        ever seen him.                        |\n",
      "|  things for me as a parent, but I'm also very excited about  |                                                              |\n",
      "|                    what will happen next!                    |   But for now, here are some facts about how this goose is   |\n",
      "|                                                              |                            doing:                            |\n",
      "|             The first thing that came to mind wh             |                                                              |\n",
      "|                                                              | It is now very close to being able to speak English at all!  |\n",
      "|                                                              |                      It can't even talk                      |\n",
      "+--------------------------------------------------------------+--------------------------------------------------------------+\n"
     ]
    }
   ],
   "source": [
    "print_n_comparisons(prompt=\"Yesterday, my son brought home a pet goose. This was the start of\",\n",
    "                    tokens_to_generate=80, activation_additions=activation_addition_dataset,\n",
    "                    num_comparisons=8, seed=0, **default_kwargs)"
   ]
  },
  {
   "attachments": {},
   "cell_type": "markdown",
   "metadata": {},
   "source": [
    "# Try with all activations"
   ]
  },
  {
   "cell_type": "code",
   "execution_count": 6,
   "metadata": {},
   "outputs": [],
   "source": [
    "from algebraic_value_editing.dataset_utils import ActivationAdditionDataset\n",
    "\n",
    "activation_addition_dataset = [ActivationAdditionDataset(\n",
    "    coeff=5,\n",
    "    act_name=6,\n",
    "    prompt=stories[\"fantasy\"],\n",
    "    from_dataset=True,\n",
    "    use_all_activations=True,\n",
    ")]"
   ]
  },
  {
   "cell_type": "code",
   "execution_count": 7,
   "metadata": {},
   "outputs": [],
   "source": [
    "default_kwargs = {'temperature': 1, 'freq_penalty': 1, 'top_p': .3, 'model': model}\n",
    "get_x_vector_preset = partial(get_x_vector, pad_method=\"tokens_left\",\n",
    "                              model=model,\n",
    "                              custom_pad_id=model.to_single_token(\" \"))"
   ]
  },
  {
   "cell_type": "code",
   "execution_count": 8,
   "metadata": {},
   "outputs": [
    {
     "name": "stdout",
     "output_type": "stream",
     "text": [
      "Getting principal component!\n"
     ]
    }
   ],
   "source": [
    "print_n_comparisons(prompt=\"Yesterday, my son brought home a pet goose. This was the start of\",\n",
    "                    tokens_to_generate=80, activation_additions=activation_addition_dataset,\n",
    "                    num_comparisons=8, seed=0, **default_kwargs)"
   ]
  },
  {
   "cell_type": "code",
   "execution_count": null,
   "metadata": {},
   "outputs": [],
   "source": []
  },
  {
   "attachments": {},
   "cell_type": "markdown",
   "metadata": {},
   "source": [
    "# Try with difference vector"
   ]
  },
  {
   "cell_type": "code",
   "execution_count": 8,
   "metadata": {},
   "outputs": [
    {
     "name": "stdout",
     "output_type": "stream",
     "text": [
      "activations_seq_len: 1\n",
      "+--------------------------------------------------------------+--------------------------------------------------------------+\n",
      "|                    \u001b[1mUnsteered completions\u001b[0m                     |                     \u001b[1mSteered completions\u001b[0m                      |\n",
      "+--------------------------------------------------------------+--------------------------------------------------------------+\n",
      "|     \u001b[1mYesterday, my son was out kicking a football. Then,      |     \u001b[1mYesterday, my son was out kicking a football. Then,      |\n",
      "|    he\u001b[0m started running and I just thought \"Oh my God, this    |    he\u001b[0m fell asleep and woke up to find his father dead. I     |\n",
      "|                 is going to be a good day.\"                  | have no idea what happened to him but I can tell you that he |\n",
      "|                                                              |        died of a natural cause in an abandoned mine.         |\n",
      "| I had been playing soccer for the last two years and when I  |                                                              |\n",
      "| got home from work at 6:30am on Sunday morning, my wife came |   I've never seen this type of thing before in my life and   |\n",
      "|  over to me and said \"Dad! You have a football game!\" And I  |  it's not uncommon for people to be killed by a mysterious   |\n",
      "|       said \"No.\" She went back to her house and said \"       |  being who's been haunting them for years. It is also quite  |\n",
      "|                                                              |                      common for people                       |\n",
      "+--------------------------------------------------------------+--------------------------------------------------------------+\n",
      "|     \u001b[1mYesterday, my son was out kicking a football. Then,      |     \u001b[1mYesterday, my son was out kicking a football. Then,      |\n",
      "|    he\u001b[0m went to the gym and I saw him. He was on his way to    |      he\u001b[0m went to the lake and was awakened by a strange       |\n",
      "|  work. He had no shoes on and he was just playing with his   |  creature. It seemed to be a magical creature that appeared  |\n",
      "|                            feet.\"                            |    in her home, and she found it there with an enchanted     |\n",
      "|                                                              |  enchantment on it. She took it from the lake and told her   |\n",
      "|     My son's father said that when I told him about the      |  that if she could find some kind of magical power in this   |\n",
      "|  incident, he didn't know what to say or do. \"He said 'I'm   |    enchanted land of the Lost Princesses (or perhaps even    |\n",
      "|  sorry,' but it wasn't something that I could say,\" says my  |         better) she could restore them back to life.         |\n",
      "|                            dad. \"                            |                                                              |\n",
      "+--------------------------------------------------------------+--------------------------------------------------------------+\n",
      "|     \u001b[1mYesterday, my son was out kicking a football. Then,      |     \u001b[1mYesterday, my son was out kicking a football. Then,      |\n",
      "|    he\u001b[0m got into a fight with his girlfriend. I was at the     |   he\u001b[0m got his own kick to the head. I was so scared that I    |\n",
      "| hospital and had to call 911. I called the police because my | went into an induced coma and woke up with no memory of what |\n",
      "|   son was playing soccer and it wasn't OK for him to be in   |                       happened to him.                       |\n",
      "|                       that situation.                        |                                                              |\n",
      "|                                                              |  My daughter has since found a way to awaken her dream-like  |\n",
      "|  I told them that I had been assaulted by an adult male on   |  consciousness and can now be reborn as a young human being  |\n",
      "|  Sunday night in a parking lot of our house and that he had  |   in the dark world of dreams! This new creature is called   |\n",
      "|         broken into our home and hit us with his car         |               Bishogar, which means \"dark elf\"               |\n",
      "+--------------------------------------------------------------+--------------------------------------------------------------+\n",
      "|     \u001b[1mYesterday, my son was out kicking a football. Then,      |     \u001b[1mYesterday, my son was out kicking a football. Then,      |\n",
      "|     he\u001b[0m started to kick it again. I'm sure that's why he      |    he\u001b[0m saw a ghostly apparition of himself and his friend     |\n",
      "|                       kicked it again.                       | who had vanished. He then asked the spirits to help him find |\n",
      "|                                                              |  her and she revealed that she was a demon possessed by the  |\n",
      "| It's not that the ball went in his hand or something, but it |    spirit of an old witch named Analel who is said to be     |\n",
      "| was a lot of fun and he loved it. He didn't know what to do  |  haunted by some strange creature. The spirits found her in  |\n",
      "| with himself until after the game because he had so much fun |  her own house and gave her an enchanted wand which allowed  |\n",
      "|  kicking the ball back and forth and doing things like that  |            them to summon it from within the dea             |\n",
      "|                 with his friends on the fiel                 |                                                              |\n",
      "+--------------------------------------------------------------+--------------------------------------------------------------+\n",
      "|     \u001b[1mYesterday, my son was out kicking a football. Then,      |     \u001b[1mYesterday, my son was out kicking a football. Then,      |\n",
      "|    he\u001b[0m went to the bathroom and came back with a large bag    |   he\u001b[0m went to the woods and found a giant black cat. He was   |\n",
      "|   of stuff. He's been in there for three days now and it's   | terrified and said that he could not believe what he saw. I  |\n",
      "|  pretty much all over his body. I'm not sure if he was hurt  |  asked him if it is true that cats can be attracted to the   |\n",
      "|  or not but I think it was pretty obvious that he had a lot  |  dead and she told him that they do not exist in her home.   |\n",
      "| of weight on him so we took him to the hospital and then we  |                                                              |\n",
      "|                        took him home.                        |  I asked her if she knew of any cat known as the demon-kin   |\n",
      "|                                                              |       who lived in a cave where some unknown spirit ha       |\n",
      "|                       We're going to b                       |                                                              |\n",
      "+--------------------------------------------------------------+--------------------------------------------------------------+\n",
      "|     \u001b[1mYesterday, my son was out kicking a football. Then,      |     \u001b[1mYesterday, my son was out kicking a football. Then,      |\n",
      "|    he\u001b[0m went to the hospital and got stitches. He's been in    |     he\u001b[0m started having nightmares. I told him to stop and     |\n",
      "|  intensive care for three days now and is still recovering   | take a deep breath. He didn't want to go back into the woods |\n",
      "|                      from his injuries.                      |  with his family and so I called her and asked her what she  |\n",
      "|                                                              | could do for him. She told me that she found an old lantern  |\n",
      "|   He's in a wheelchair but has been doing well so far. I'm   | in the woods where she had lost her father's ghost (which is |\n",
      "| hoping that he'll be able to play football again soon enough |                   now known as Cephalid).                    |\n",
      "|  as well. But it's important that we keep our eyes open for  |                                                              |\n",
      "|     him because if he does not get back to full strength     |                      I've been wanting                       |\n",
      "+--------------------------------------------------------------+--------------------------------------------------------------+\n",
      "|     \u001b[1mYesterday, my son was out kicking a football. Then,      |     \u001b[1mYesterday, my son was out kicking a football. Then,      |\n",
      "|   he\u001b[0m was doing it with his dad and the kids. I told him to   |   he\u001b[0m was told to stop and asked if he could take the tree    |\n",
      "|                            stop.                             |                  that would hold his house.                  |\n",
      "|                                                              |                                                              |\n",
      "| \"You're not going to let me do that,\" he said. \"I'm going to |  So I did what any child would do: I walked him through the  |\n",
      "|                      go get some rest.\"                      | tree and found a little piece of magic which made me want to |\n",
      "|                                                              |  make it work. And then I made it work for myself! It's not  |\n",
      "|   The first thing I did was call 911 for help, but my son    |  like my son can't use this magical potion or even find an   |\n",
      "| wasn't home yet and we didn't have time for that until 9:30  |                       elf who can heal                       |\n",
      "|                         p.m., when h                         |                                                              |\n",
      "+--------------------------------------------------------------+--------------------------------------------------------------+\n",
      "|     \u001b[1mYesterday, my son was out kicking a football. Then,      |     \u001b[1mYesterday, my son was out kicking a football. Then,      |\n",
      "|    he\u001b[0m got into a fight with his father and then the next     |     he\u001b[0m found a magic wand and made it work on his petal      |\n",
      "|  day he got into a fight with his mother. He's now 15 years  | (he's now a wizard). I had to use this magical wand to turn  |\n",
      "|         old and has been fighting for two years now.         | him into an elf and get rid of the dark enchantment that she |\n",
      "|                                                              |                             has.                             |\n",
      "|  My dad is the only one who can understand what happened to  |                                                              |\n",
      "| him and why it happened. I think that's why he's here today  |  I'm not sure if this is possible or not, but I can't tell   |\n",
      "| in court today. I'm not going to go into details about what  | you how much more powerful it is than any spell that she can |\n",
      "|                             happ                             |                    cast. It's like having                    |\n",
      "+--------------------------------------------------------------+--------------------------------------------------------------+\n"
     ]
    }
   ],
   "source": [
    "from algebraic_value_editing.dataset_utils import ActivationAdditionDataset\n",
    "\n",
    "activation_addition_dataset = [ActivationAdditionDataset(\n",
    "    coeff=60,\n",
    "    act_name=6,\n",
    "    prompt=stories[\"fantasy\"],\n",
    "    from_dataset=True,\n",
    "    use_all_activations=True,\n",
    "    prompt_2=stories[\"sports\"],\n",
    "    from_pca=False,\n",
    "    from_difference=True,\n",
    ")]\n",
    "\n",
    "default_kwargs = {'temperature': 1, 'freq_penalty': 1, 'top_p': .3, 'model': model}\n",
    "\n",
    "print_n_comparisons(prompt=\"Yesterday, my son was out kicking a football. Then, he\",\n",
    "                    tokens_to_generate=80, activation_additions=activation_addition_dataset,\n",
    "                    num_comparisons=8, seed=0, **default_kwargs)"
   ]
  }
 ],
 "metadata": {
  "kernelspec": {
   "display_name": "add_env",
   "language": "python",
   "name": "python3"
  },
  "language_info": {
   "codemirror_mode": {
    "name": "ipython",
    "version": 3
   },
   "file_extension": ".py",
   "mimetype": "text/x-python",
   "name": "python",
   "nbconvert_exporter": "python",
   "pygments_lexer": "ipython3",
   "version": "3.10.9"
  },
  "orig_nbformat": 4
 },
 "nbformat": 4,
 "nbformat_minor": 2
}
